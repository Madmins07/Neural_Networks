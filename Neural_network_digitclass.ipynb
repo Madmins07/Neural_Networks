{
  "nbformat": 4,
  "nbformat_minor": 0,
  "metadata": {
    "colab": {
      "provenance": [],
      "authorship_tag": "ABX9TyPqZmwAiwGsjqJ2AHljHs2v",
      "include_colab_link": true
    },
    "kernelspec": {
      "name": "python3",
      "display_name": "Python 3"
    },
    "language_info": {
      "name": "python"
    }
  },
  "cells": [
    {
      "cell_type": "markdown",
      "metadata": {
        "id": "view-in-github",
        "colab_type": "text"
      },
      "source": [
        "<a href=\"https://colab.research.google.com/github/Madmins07/Neural_Networks/blob/main/Neural_network_digitclass.ipynb\" target=\"_parent\"><img src=\"https://colab.research.google.com/assets/colab-badge.svg\" alt=\"Open In Colab\"/></a>"
      ]
    },
    {
      "cell_type": "markdown",
      "source": [
        "## ***DIGIT CLASSIFICATION USING MNIST DATABASE***"
      ],
      "metadata": {
        "id": "tbQCUTtYouyB"
      }
    },
    {
      "cell_type": "code",
      "execution_count": null,
      "metadata": {
        "id": "NWQmUK1p6K6v"
      },
      "outputs": [],
      "source": [
        "import matplotlib.pyplot as plt\n",
        "import pandas as pd\n",
        "import numpy as np\n",
        "import tensorflow as tf\n",
        "from tensorflow import keras\n",
        "import tensorflow_datasets as tfds"
      ]
    },
    {
      "cell_type": "markdown",
      "source": [
        "***Processing Data***"
      ],
      "metadata": {
        "id": "zrJgLI0G-xB5"
      }
    },
    {
      "cell_type": "code",
      "source": [
        "train,test = tfds.load(name=\"mnist\", split=[\"train\",'test'])\n",
        "train_images = np.array([example['image'].numpy()[:,:,0] for example in train])\n",
        "test_images = np.array([example['image'].numpy()[:,:,0] for example in test])\n",
        "train_labels = np.array([example['label'].numpy()for example in train])\n",
        "test_labels = np.array([example['label'].numpy() for example in test])"
      ],
      "metadata": {
        "id": "WlUAPHxe73VE"
      },
      "execution_count": null,
      "outputs": []
    },
    {
      "cell_type": "code",
      "source": [
        "m1 = train_images.shape[0] # 60000 taining examples\n",
        "m2 = test_images.shape[0]  # 10000 taining examples\n",
        "\n",
        "# 10 Labels from 0 -> 9\n",
        "n1 = train_labels.shape[0]\n",
        "n2 = test_labels.shape[0]\n",
        "train_images.shape"
      ],
      "metadata": {
        "colab": {
          "base_uri": "https://localhost:8080/"
        },
        "id": "t7oVWfga-sqe",
        "outputId": "c0930b89-cd35-4226-f9e3-1ea3f9a859b3"
      },
      "execution_count": null,
      "outputs": [
        {
          "output_type": "execute_result",
          "data": {
            "text/plain": [
              "(60000, 28, 28)"
            ]
          },
          "metadata": {},
          "execution_count": 85
        }
      ]
    },
    {
      "cell_type": "markdown",
      "source": [
        "### ***Model Building***"
      ],
      "metadata": {
        "id": "4R34rTTjCIlr"
      }
    },
    {
      "cell_type": "code",
      "source": [
        "model = keras.Sequential([\n",
        "    keras.layers.Flatten(),\n",
        "    keras.layers.Dense(256,activation='relu'),\n",
        "    keras.layers.Dense(128,activation='relu'),\n",
        "    keras.layers.Dense(128,activation='relu'),\n",
        "    keras.layers.Dense(10,activation='softmax')\n",
        "])\n",
        "model.compile(optimizer=\"adam\",\n",
        "              loss=keras.losses.SparseCategoricalCrossentropy(),\n",
        "              metrics=['accuracy'])\n",
        "model.fit(train_images, train_labels, epochs=10)"
      ],
      "metadata": {
        "colab": {
          "base_uri": "https://localhost:8080/"
        },
        "id": "Umpt6F588hih",
        "outputId": "61013aeb-5ee9-49ec-e840-fedd7a693173"
      },
      "execution_count": null,
      "outputs": [
        {
          "output_type": "stream",
          "name": "stdout",
          "text": [
            "Epoch 1/10\n",
            "1875/1875 [==============================] - 11s 6ms/step - loss: 1.0050 - accuracy: 0.8854\n",
            "Epoch 2/10\n",
            "1875/1875 [==============================] - 11s 6ms/step - loss: 0.2165 - accuracy: 0.9412\n",
            "Epoch 3/10\n",
            "1875/1875 [==============================] - 12s 6ms/step - loss: 0.1705 - accuracy: 0.9524\n",
            "Epoch 4/10\n",
            "1875/1875 [==============================] - 12s 6ms/step - loss: 0.1379 - accuracy: 0.9614\n",
            "Epoch 5/10\n",
            "1875/1875 [==============================] - 12s 6ms/step - loss: 0.1159 - accuracy: 0.9665\n",
            "Epoch 6/10\n",
            "1875/1875 [==============================] - 12s 6ms/step - loss: 0.1020 - accuracy: 0.9712\n",
            "Epoch 7/10\n",
            "1875/1875 [==============================] - 10s 5ms/step - loss: 0.0840 - accuracy: 0.9760\n",
            "Epoch 8/10\n",
            "1875/1875 [==============================] - 11s 6ms/step - loss: 0.0797 - accuracy: 0.9778\n",
            "Epoch 9/10\n",
            "1875/1875 [==============================] - 12s 6ms/step - loss: 0.0723 - accuracy: 0.9799\n",
            "Epoch 10/10\n",
            "1875/1875 [==============================] - 12s 6ms/step - loss: 0.0648 - accuracy: 0.9822\n"
          ]
        },
        {
          "output_type": "execute_result",
          "data": {
            "text/plain": [
              "<keras.src.callbacks.History at 0x7960ea81be80>"
            ]
          },
          "metadata": {},
          "execution_count": 109
        }
      ]
    },
    {
      "cell_type": "markdown",
      "source": [
        "### ***MODEL EVALUATION ON TEST DATA***"
      ],
      "metadata": {
        "id": "mPx9R5tzq_nK"
      }
    },
    {
      "cell_type": "code",
      "source": [
        "model.evaluate(test_images,test_labels)"
      ],
      "metadata": {
        "colab": {
          "base_uri": "https://localhost:8080/"
        },
        "id": "N3U_EQIRG1bc",
        "outputId": "31aa07da-32de-4486-ce40-3f6270e1cd88"
      },
      "execution_count": null,
      "outputs": [
        {
          "output_type": "stream",
          "name": "stdout",
          "text": [
            "313/313 [==============================] - 1s 2ms/step - loss: 0.1161 - accuracy: 0.9729\n"
          ]
        },
        {
          "output_type": "execute_result",
          "data": {
            "text/plain": [
              "[0.11609124392271042, 0.9728999733924866]"
            ]
          },
          "metadata": {},
          "execution_count": 110
        }
      ]
    }
  ]
}